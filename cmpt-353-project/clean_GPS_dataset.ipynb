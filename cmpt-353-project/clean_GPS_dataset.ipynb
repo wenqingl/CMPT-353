{
 "cells": [
  {
   "cell_type": "code",
   "execution_count": 1,
   "id": "a6aeebf2",
   "metadata": {},
   "outputs": [],
   "source": [
    "import pandas as pd\n",
    "import numpy as np\n",
    "from pykalman import KalmanFilter\n",
    "from statsmodels.nonparametric.smoothers_lowess import lowess\n",
    "from math import cos, asin, sqrt, pi"
   ]
  },
  {
   "cell_type": "code",
   "execution_count": 2,
   "id": "c3e2a961",
   "metadata": {},
   "outputs": [],
   "source": [
    "# read our data\n",
    "data = pd.read_csv(\"./original_dataset/GPS_location.csv\", parse_dates=['time'])\n",
    "#ankle_data = pd.read_csv(\"./ankle.csv\", parse_dates=['time'])"
   ]
  },
  {
   "cell_type": "code",
   "execution_count": 3,
   "id": "c915e2ba",
   "metadata": {},
   "outputs": [],
   "source": [
    "# code reference from exercise 3\n",
    "# https://coursys.sfu.ca/2022fa-cmpt-353-d1/pages/Exercise3\n",
    "# output the gpx file to show our path\n",
    "def output_gpx(points, output_filename):\n",
    "    \"\"\"\n",
    "    Output a GPX file with latitude and longitude from the points DataFrame.\n",
    "    \"\"\"\n",
    "    from xml.dom.minidom import getDOMImplementation\n",
    "    def append_trkpt(pt, trkseg, doc):\n",
    "        trkpt = doc.createElement('trkpt')\n",
    "        trkpt.setAttribute('lat', '%.7f' % (pt['lat']))\n",
    "        trkpt.setAttribute('lon', '%.7f' % (pt['lon']))\n",
    "        trkseg.appendChild(trkpt)\n",
    "    \n",
    "    doc = getDOMImplementation().createDocument(None, 'gpx', None)\n",
    "    trk = doc.createElement('trk')\n",
    "    doc.documentElement.appendChild(trk)\n",
    "    trkseg = doc.createElement('trkseg')\n",
    "    trk.appendChild(trkseg)\n",
    "    \n",
    "    points.apply(append_trkpt, axis=1, trkseg=trkseg, doc=doc)\n",
    "    \n",
    "    with open(output_filename, 'w') as fh:\n",
    "        doc.writexml(fh, indent=' ')"
   ]
  },
  {
   "cell_type": "code",
   "execution_count": 4,
   "id": "21c911e5",
   "metadata": {},
   "outputs": [
    {
     "data": {
      "text/html": [
       "<div>\n",
       "<style scoped>\n",
       "    .dataframe tbody tr th:only-of-type {\n",
       "        vertical-align: middle;\n",
       "    }\n",
       "\n",
       "    .dataframe tbody tr th {\n",
       "        vertical-align: top;\n",
       "    }\n",
       "\n",
       "    .dataframe thead th {\n",
       "        text-align: right;\n",
       "    }\n",
       "</style>\n",
       "<table border=\"1\" class=\"dataframe\">\n",
       "  <thead>\n",
       "    <tr style=\"text-align: right;\">\n",
       "      <th></th>\n",
       "      <th>lat</th>\n",
       "      <th>lon</th>\n",
       "    </tr>\n",
       "  </thead>\n",
       "  <tbody>\n",
       "    <tr>\n",
       "      <th>0</th>\n",
       "      <td>49.278370</td>\n",
       "      <td>-122.910056</td>\n",
       "    </tr>\n",
       "    <tr>\n",
       "      <th>1</th>\n",
       "      <td>49.278377</td>\n",
       "      <td>-122.910004</td>\n",
       "    </tr>\n",
       "    <tr>\n",
       "      <th>2</th>\n",
       "      <td>49.278379</td>\n",
       "      <td>-122.909959</td>\n",
       "    </tr>\n",
       "    <tr>\n",
       "      <th>3</th>\n",
       "      <td>49.278377</td>\n",
       "      <td>-122.909924</td>\n",
       "    </tr>\n",
       "    <tr>\n",
       "      <th>4</th>\n",
       "      <td>49.278375</td>\n",
       "      <td>-122.909902</td>\n",
       "    </tr>\n",
       "  </tbody>\n",
       "</table>\n",
       "</div>"
      ],
      "text/plain": [
       "         lat         lon\n",
       "0  49.278370 -122.910056\n",
       "1  49.278377 -122.910004\n",
       "2  49.278379 -122.909959\n",
       "3  49.278377 -122.909924\n",
       "4  49.278375 -122.909902"
      ]
     },
     "execution_count": 4,
     "metadata": {},
     "output_type": "execute_result"
    }
   ],
   "source": [
    "data.columns =['timestamp','lat','lon']\n",
    "data = data.drop('timestamp', axis=1)\n",
    "data[\"lat\"].astype(float)\n",
    "data[\"lon\"].astype(float)\n",
    "output_gpx(data, './clean_dataset/raw_gps.gpx')\n",
    "data.head()"
   ]
  },
  {
   "cell_type": "markdown",
   "id": "5f5c842f",
   "metadata": {},
   "source": [
    "# KF 1"
   ]
  },
  {
   "cell_type": "code",
   "execution_count": 5,
   "id": "7a9f5388",
   "metadata": {},
   "outputs": [],
   "source": [
    "initial_state = data.iloc[0]\n",
    "\n",
    "transition_matrix = [[1, 0], [0, 1]]\n",
    "\n",
    "observation_matrix = [[1, 0], [0, 1]]\n",
    "\n",
    "kf1 = KalmanFilter(initial_state_mean = initial_state,\n",
    "                  transition_matrices = transition_matrix,\n",
    "                  observation_matrices = observation_matrix)\n",
    "\n",
    "kf1 = kf1.em(data, n_iter=5)  # use EM algorithm to tune parameters from the observation data.\n",
    "\n",
    "kalman_smoothed1, _ = kf1.smooth(data)\n",
    "\n",
    "# ref: https://stackoverflow.com/questions/43377626/how-to-use-kalman-filter-in-python-for-location-data"
   ]
  },
  {
   "cell_type": "code",
   "execution_count": 6,
   "id": "4875cdbe",
   "metadata": {},
   "outputs": [],
   "source": [
    "kalman_smoothed1 = pd.DataFrame(kalman_smoothed1)\n",
    "kalman_smoothed1.columns = ['lat', 'lon']\n",
    "output_gpx(kalman_smoothed1, './clean_dataset/smoothed_gps1.gpx')"
   ]
  },
  {
   "cell_type": "markdown",
   "id": "4054997e",
   "metadata": {},
   "source": [
    "# KF 2"
   ]
  },
  {
   "cell_type": "code",
   "execution_count": 7,
   "id": "a1b8b1f6",
   "metadata": {},
   "outputs": [],
   "source": [
    "kf2 = KalmanFilter(transition_matrices = transition_matrix,\n",
    "                  observation_matrices = observation_matrix,\n",
    "                  initial_state_mean = initial_state,\n",
    "                  observation_covariance = 10*kf1.observation_covariance,\n",
    "                  em_vars=['transition_covariance', 'initial_state_covariance'])\n",
    "kf2 = kf2.em(data, n_iter=5)\n",
    "kalman_smoothed2, _ = kf2.smooth(data)"
   ]
  },
  {
   "cell_type": "code",
   "execution_count": 8,
   "id": "34512dc3",
   "metadata": {},
   "outputs": [],
   "source": [
    "kalman_smoothed2 = pd.DataFrame(kalman_smoothed2)\n",
    "kalman_smoothed2.columns = ['lat', 'lon']\n",
    "output_gpx(kalman_smoothed2, './clean_dataset/smoothed_gps2.gpx')"
   ]
  },
  {
   "cell_type": "markdown",
   "id": "5fa8eb73",
   "metadata": {},
   "source": [
    "# Distance"
   ]
  },
  {
   "cell_type": "code",
   "execution_count": 9,
   "id": "a68cd6e9",
   "metadata": {},
   "outputs": [],
   "source": [
    "# reference: exercise 3\n",
    "\n",
    "def haversine(lat1, lon1, lat2, lon2):\n",
    "    p = pi/180\n",
    "    a = 0.5 - cos((lat2-lat1)*p)/2 + cos(lat1*p) * cos(lat2*p) * (1-cos((lon2-lon1)*p))/2\n",
    "    return 12742 * asin(sqrt(a))\n",
    "# ref: https://stackoverflow.com/questions/27928/calculate-distance-between-two-latitude-longitude-points-haversine-formula/21623206\n",
    "\n",
    "def distance(points):\n",
    "    df = points.copy()\n",
    "    df['lat2'] = df['lat'].shift()\n",
    "    df['lon2'] = df['lon'].shift()\n",
    "    #df['haversine'] = haversine(df['lat'], df['lon'], df['lat2'], df['lon2'])\n",
    "    df['haversine'] = df.apply(lambda x: haversine( x['lat'], x['lon'], x['lat2'], x['lon2']), axis=1)\n",
    "    #print(df)\n",
    "    return df['haversine'].sum()*1000"
   ]
  },
  {
   "cell_type": "code",
   "execution_count": 10,
   "id": "4ffa592e",
   "metadata": {},
   "outputs": [
    {
     "data": {
      "text/plain": [
       "380.0319688041719"
      ]
     },
     "execution_count": 10,
     "metadata": {},
     "output_type": "execute_result"
    }
   ],
   "source": [
    "raw_dist = distance(data)\n",
    "raw_dist"
   ]
  },
  {
   "cell_type": "code",
   "execution_count": 11,
   "id": "e843364b",
   "metadata": {},
   "outputs": [
    {
     "data": {
      "text/plain": [
       "336.63219371607966"
      ]
     },
     "execution_count": 11,
     "metadata": {},
     "output_type": "execute_result"
    }
   ],
   "source": [
    "smoothed1_dist = distance(kalman_smoothed1)\n",
    "smoothed1_dist"
   ]
  },
  {
   "cell_type": "code",
   "execution_count": 12,
   "id": "efc90e17",
   "metadata": {},
   "outputs": [
    {
     "data": {
      "text/plain": [
       "318.9676655249059"
      ]
     },
     "execution_count": 12,
     "metadata": {},
     "output_type": "execute_result"
    }
   ],
   "source": [
    "smoothed2_dist = distance(kalman_smoothed2)\n",
    "smoothed2_dist"
   ]
  },
  {
   "cell_type": "code",
   "execution_count": null,
   "id": "059ab07a",
   "metadata": {},
   "outputs": [],
   "source": []
  }
 ],
 "metadata": {
  "kernelspec": {
   "display_name": "Python 3 (ipykernel)",
   "language": "python",
   "name": "python3"
  },
  "language_info": {
   "codemirror_mode": {
    "name": "ipython",
    "version": 3
   },
   "file_extension": ".py",
   "mimetype": "text/x-python",
   "name": "python",
   "nbconvert_exporter": "python",
   "pygments_lexer": "ipython3",
   "version": "3.9.13"
  }
 },
 "nbformat": 4,
 "nbformat_minor": 5
}
