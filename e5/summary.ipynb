{
 "cells": [
  {
   "cell_type": "code",
   "execution_count": 1,
   "id": "72970bf4",
   "metadata": {},
   "outputs": [],
   "source": [
    "import pandas as pd"
   ]
  },
  {
   "cell_type": "code",
   "execution_count": 2,
   "id": "bb0a10c2",
   "metadata": {},
   "outputs": [
    {
     "name": "stdout",
     "output_type": "stream",
     "text": [
      "data 1\n",
      "              x          y\n",
      "mean   8.717696  12.522874\n",
      "std   12.155517   6.639964\n",
      "min  -22.635878  -2.565088\n",
      "max   35.237055  27.384153\n",
      "\n",
      "correlation coefficient:  0.9503256954375483\n",
      "\n",
      "For data set 1, the x has smaller mean than y, larger std and range, and they have a strong, positive linear relationship.\n"
     ]
    }
   ],
   "source": [
    "data1 = pd.read_csv('data-1.csv')\n",
    "print(\"data 1\")\n",
    "print(data1.describe().loc[['mean','std', 'min', 'max']])\n",
    "print(\"\\ncorrelation coefficient: \" , data1['x'].corr(data1['y']))\n",
    "print(\"\\nFor data set 1, the x has smaller mean than y, larger std and range, and they have a strong, positive linear relationship.\")"
   ]
  },
  {
   "cell_type": "code",
   "execution_count": 3,
   "id": "0ff499ac",
   "metadata": {},
   "outputs": [
    {
     "name": "stdout",
     "output_type": "stream",
     "text": [
      "data 2\n",
      "              x          y\n",
      "mean  -0.710787  -0.748987\n",
      "std   11.481584   6.257918\n",
      "min  -33.271113 -18.621804\n",
      "max   27.647000  14.147315\n",
      "\n",
      "correlation coefficient:  0.9551531665750373\n",
      "\n",
      "For data set 2, x and y has similar mean, but x has larger std and range, and they have a strong, positive linear relationship.\n"
     ]
    }
   ],
   "source": [
    "data2 = pd.read_csv('data-2.csv')\n",
    "print(\"data 2\")\n",
    "print(data2.describe().loc[['mean','std', 'min', 'max']])\n",
    "print(\"\\ncorrelation coefficient: \" , data2['x'].corr(data2['y']))\n",
    "print(\"\\nFor data set 2, x and y has similar mean, but x has larger std and range, and they have a strong, positive linear relationship.\")"
   ]
  },
  {
   "cell_type": "code",
   "execution_count": 4,
   "id": "957caa31",
   "metadata": {},
   "outputs": [
    {
     "name": "stdout",
     "output_type": "stream",
     "text": [
      "data 3\n",
      "             x          y\n",
      "mean  0.968907   8.508535\n",
      "std   2.235558   1.149301\n",
      "min  -2.449064   6.641734\n",
      "max   4.518885  10.551871\n",
      "\n",
      "correlation coefficient:  0.981937264676066\n",
      "\n",
      "For data set 3, x has a smaller mean than y, relatively larger std and range, and they have a strong, positive linear relationship.\n"
     ]
    }
   ],
   "source": [
    "data3 = pd.read_csv('data-3.csv')\n",
    "print(\"data 3\")\n",
    "print(data3.describe().loc[['mean','std', 'min', 'max']])\n",
    "print(\"\\ncorrelation coefficient: \" , data3['x'].corr(data3['y']))\n",
    "print(\"\\nFor data set 3, x has a smaller mean than y, relatively larger std and range, and they have a strong, positive linear relationship.\")"
   ]
  },
  {
   "cell_type": "code",
   "execution_count": 5,
   "id": "82277a14",
   "metadata": {},
   "outputs": [
    {
     "name": "stdout",
     "output_type": "stream",
     "text": [
      "data 4\n",
      "              x          y\n",
      "mean  49.905086  18.553837\n",
      "std   28.508611  16.545896\n",
      "min    0.000000   0.000000\n",
      "max   87.376700  44.565040\n",
      "\n",
      "correlation coefficient:  -0.08119306735490815\n",
      "\n",
      "For data set 4, x has much larger mean, std, and range with same min, and they have a weak, negative linear relationship.\n"
     ]
    }
   ],
   "source": [
    "data4 = pd.read_csv('data-4.csv')\n",
    "print(\"data 4\")\n",
    "print(data4.describe().loc[['mean','std', 'min', 'max']])\n",
    "print(\"\\ncorrelation coefficient: \" , data4['x'].corr(data4['y']))\n",
    "print(\"\\nFor data set 4, x has much larger mean, std, and range with same min, and they have a weak, negative linear relationship.\")"
   ]
  },
  {
   "cell_type": "code",
   "execution_count": 6,
   "id": "7ee5747a",
   "metadata": {},
   "outputs": [
    {
     "name": "stdout",
     "output_type": "stream",
     "text": [
      "data 5\n",
      "              x          y\n",
      "mean  49.909994  18.555525\n",
      "std   28.500001  16.540796\n",
      "min    4.337892   0.055498\n",
      "max   91.052863  49.934197\n",
      "\n",
      "correlation coefficient:  -0.08823598983058888\n",
      "\n",
      "For data set 5, x has larger mean, std, and range than y, and they have a weak, negative linear relationship.\n"
     ]
    }
   ],
   "source": [
    "data5 = pd.read_csv('data-5.csv')\n",
    "print(\"data 5\")\n",
    "print(data5.describe().loc[['mean','std', 'min', 'max']])\n",
    "print(\"\\ncorrelation coefficient: \" , data5['x'].corr(data5['y']))\n",
    "print(\"\\nFor data set 5, x has larger mean, std, and range than y, and they have a weak, negative linear relationship.\")"
   ]
  },
  {
   "cell_type": "code",
   "execution_count": 7,
   "id": "4d2d336e",
   "metadata": {},
   "outputs": [
    {
     "name": "stdout",
     "output_type": "stream",
     "text": [
      "data 6\n",
      "              x          y\n",
      "mean   7.216155   7.602215\n",
      "std   11.921599  11.764382\n",
      "min  -24.333821 -22.956357\n",
      "max   35.402139  36.079874\n",
      "\n",
      "correlation coefficient:  0.9350685662094906\n",
      "\n",
      "For data set 6, x and y have similar mean, std, and range with similar min and max, which means they may have a similar shape, and they have a strong, positive linear relationship\n"
     ]
    }
   ],
   "source": [
    "data6 = pd.read_csv('data-6.csv')\n",
    "print(\"data 6\")\n",
    "print(data6.describe().loc[['mean','std', 'min', 'max']])\n",
    "print(\"\\ncorrelation coefficient: \" , data6['x'].corr(data6['y']))\n",
    "print(\"\\nFor data set 6, x and y have similar mean, std, and range with similar min and max, which means they may have a similar shape, and they have a strong, positive linear relationship\")"
   ]
  },
  {
   "cell_type": "code",
   "execution_count": null,
   "id": "11a83f98",
   "metadata": {},
   "outputs": [],
   "source": []
  }
 ],
 "metadata": {
  "kernelspec": {
   "display_name": "Python 3 (ipykernel)",
   "language": "python",
   "name": "python3"
  },
  "language_info": {
   "codemirror_mode": {
    "name": "ipython",
    "version": 3
   },
   "file_extension": ".py",
   "mimetype": "text/x-python",
   "name": "python",
   "nbconvert_exporter": "python",
   "pygments_lexer": "ipython3",
   "version": "3.9.13"
  }
 },
 "nbformat": 4,
 "nbformat_minor": 5
}
